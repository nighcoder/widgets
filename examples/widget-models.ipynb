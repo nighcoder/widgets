{
 "cells": [
  {
   "cell_type": "markdown",
   "metadata": {},
   "source": [
    "# Demo: Interactive Widgets\n",
    "A notebook to explore interactive widgets with clojupyter kernel.\n",
    "The notebook explores widget creation. For examples of widget composition and interaction see widget-interaction.ipynb\n",
    "\n",
    "Requires clojupyter-0.4.0 or later."
   ]
  },
  {
   "cell_type": "code",
   "execution_count": null,
   "metadata": {},
   "outputs": [],
   "source": [
    "(require '[clojupyter-plugin.widgets :as widget])"
   ]
  },
  {
   "cell_type": "markdown",
   "metadata": {},
   "source": [
    "## Simple Widgets\n",
    "### Text Widgets"
   ]
  },
  {
   "cell_type": "code",
   "execution_count": null,
   "metadata": {},
   "outputs": [],
   "source": [
    "(widget/label :value \"My text widget\")"
   ]
  },
  {
   "cell_type": "code",
   "execution_count": null,
   "metadata": {},
   "outputs": [],
   "source": [
    "(widget/text :placeholder \"Hello World\")"
   ]
  },
  {
   "cell_type": "code",
   "execution_count": null,
   "metadata": {},
   "outputs": [],
   "source": [
    "(widget/password :value \"top secret pwd\" :description \"Password\")"
   ]
  },
  {
   "cell_type": "code",
   "execution_count": null,
   "metadata": {},
   "outputs": [],
   "source": [
    "(widget/textarea :placeholder \"Some lengthy description\" :description \"Your Text Here:\" :rows 4\n",
    "                 :style (widget/description-style :description_width \"8em\"))"
   ]
  },
  {
   "cell_type": "code",
   "execution_count": null,
   "metadata": {},
   "outputs": [],
   "source": [
    "(widget/combobox :options [\"blue\" \"black\" \"green\" \"yellow\"] :description \"Pick a color\")"
   ]
  },
  {
   "cell_type": "code",
   "execution_count": null,
   "metadata": {},
   "outputs": [],
   "source": [
    "(widget/html :value \"<p>Hello <b>World</b></p>\" :placeholder \"Some HTML\" :description \"Some HTML\")"
   ]
  },
  {
   "cell_type": "markdown",
   "metadata": {},
   "source": [
    "Example taken from: https://ipywidgets.readthedocs.io/en/latest/examples/Widget%20List.html#HTML-Math"
   ]
  },
  {
   "cell_type": "code",
   "execution_count": null,
   "metadata": {},
   "outputs": [],
   "source": [
    "(widget/html-math :value \"Some math and <i>HTML</i>: \\\\(x^2\\\\) and $$\\\\frac{x+1}{x-1}$$\")"
   ]
  },
  {
   "cell_type": "markdown",
   "metadata": {},
   "source": [
    "Note: *We need to escape the backslash in order for the above example to work.*"
   ]
  },
  {
   "cell_type": "markdown",
   "metadata": {},
   "source": [
    "____\n",
    "### Boolean Widgets\n"
   ]
  },
  {
   "cell_type": "code",
   "execution_count": null,
   "metadata": {},
   "outputs": [],
   "source": [
    "(widget/checkbox :description \"Click Me\" :value true)"
   ]
  },
  {
   "cell_type": "code",
   "execution_count": null,
   "metadata": {},
   "outputs": [],
   "source": [
    "(widget/toggle-button :value false :description \"Click to Activate\" :icon \"hand-pointer\")"
   ]
  },
  {
   "cell_type": "code",
   "execution_count": null,
   "metadata": {},
   "outputs": [],
   "source": [
    "(widget/valid :value true :description \"Valid!\")"
   ]
  },
  {
   "cell_type": "markdown",
   "metadata": {},
   "source": [
    "___\n",
    "### Numeric Widgets"
   ]
  },
  {
   "cell_type": "code",
   "execution_count": null,
   "metadata": {},
   "outputs": [],
   "source": [
    "(widget/int-slider :description \"Vertical Slider\" :value 20 :min -10 :max 20\n",
    "                   :orientation \"vertical\"\n",
    "                   :style (widget/slider-style :handle_color \"pink\"))"
   ]
  },
  {
   "cell_type": "code",
   "execution_count": null,
   "metadata": {},
   "outputs": [],
   "source": [
    "(widget/float-slider :description \"Horizontal Slider\" :value (rand) :min 0.0 :max 1.0\n",
    "                     :step 0.01 :readout_format \".2f\")"
   ]
  },
  {
   "cell_type": "code",
   "execution_count": null,
   "metadata": {},
   "outputs": [],
   "source": [
    "(widget/float-log-slider :value 2e5 :base 10.0 :min 4.0 :max 8.0 :step 0.2)"
   ]
  },
  {
   "cell_type": "code",
   "execution_count": null,
   "metadata": {},
   "outputs": [],
   "source": [
    "(widget/int-range-slider :value [200 1800] :max 3000 :step 5 :style (widget/slider-style :handle_color \"cyan\"))"
   ]
  },
  {
   "cell_type": "code",
   "execution_count": null,
   "metadata": {},
   "outputs": [],
   "source": [
    "(widget/float-range-slider)"
   ]
  },
  {
   "cell_type": "code",
   "execution_count": null,
   "metadata": {},
   "outputs": [],
   "source": [
    "(widget/int-progress :min 10 :max 100 :value 95 :style (widget/progress-style :bar_color \"teal\"))"
   ]
  },
  {
   "cell_type": "code",
   "execution_count": null,
   "metadata": {},
   "outputs": [],
   "source": [
    "(widget/float-progress :min 0.0 :max 10.0 :step 0.1 :value 4.8)"
   ]
  },
  {
   "cell_type": "code",
   "execution_count": null,
   "metadata": {},
   "outputs": [],
   "source": [
    "(widget/bounded-int-text :min 0 :max 100 :step 5)"
   ]
  },
  {
   "cell_type": "code",
   "execution_count": null,
   "metadata": {},
   "outputs": [],
   "source": [
    "(widget/bounded-float-text :min 0.0 :max 10.0 :step 0.2)"
   ]
  },
  {
   "cell_type": "code",
   "execution_count": null,
   "metadata": {},
   "outputs": [],
   "source": [
    "(widget/int-text :value 233 :layout (widget/layout :width \"5em\"))"
   ]
  },
  {
   "cell_type": "code",
   "execution_count": null,
   "metadata": {},
   "outputs": [],
   "source": [
    "(widget/float-text :value 9.32 :min 0.01 :step 0.02\n",
    "                   :layout (widget/layout :width \"5em\"))"
   ]
  },
  {
   "cell_type": "markdown",
   "metadata": {},
   "source": [
    "____\n",
    "### Selection Widgets"
   ]
  },
  {
   "cell_type": "code",
   "execution_count": null,
   "metadata": {},
   "outputs": [],
   "source": [
    "(widget/dropdown :options [\"one\" \"two\" \"three\"] :value \"three\"\n",
    "                 :layout (widget/layout :left \"100px\" :width \"120px\"))"
   ]
  },
  {
   "cell_type": "code",
   "execution_count": null,
   "metadata": {},
   "outputs": [],
   "source": [
    "(widget/dropdown :options {:one 1 :two 2 :three 3} :index 2)"
   ]
  },
  {
   "cell_type": "code",
   "execution_count": null,
   "metadata": {},
   "outputs": [],
   "source": [
    "(widget/dropdown :options [[\"one\" 1] [\"two\" 2] [\"three\" 3]] :index 2 :description \"Pick a number\"\n",
    "                 :style (widget/description-style :description_width \"8em\"))"
   ]
  },
  {
   "cell_type": "code",
   "execution_count": null,
   "metadata": {},
   "outputs": [],
   "source": [
    "(widget/box :children [(widget/radio-buttons :options [\"dark\" \"light\"]\n",
    "                                             :description \"A long description here\" :value \"dark\"\n",
    "                                             :style (widget/description-style :description_width \"15em\"))]\n",
    "            :layout (widget/layout :border \"double\" :width \"30em\"))"
   ]
  },
  {
   "cell_type": "code",
   "execution_count": null,
   "metadata": {},
   "outputs": [],
   "source": [
    "(widget/select :options [\"english\" \"french\" \"german\"] :value \"german\" :description \"Select Language\"\n",
    "               :style (widget/description-style :description_width \"8em\"))"
   ]
  },
  {
   "cell_type": "code",
   "execution_count": null,
   "metadata": {},
   "outputs": [],
   "source": [
    "(widget/toggle-buttons :options [\"english\" \"french\" \"german\"] :value \"french\" :description \"A very looooooooooooooooooooooooooong description\"\n",
    "                       :button_style \"primary\" :disabled true\n",
    "                       :style (widget/toggle-buttons-style :button_width \"100px\"))"
   ]
  },
  {
   "cell_type": "code",
   "execution_count": null,
   "metadata": {},
   "outputs": [],
   "source": [
    "(widget/select-multiple :options [\"Guitar\" \"Mandolin\" \"Violin\" \"Bass\"] :value [\"Bass\"] :description \"String Instruments\")"
   ]
  },
  {
   "cell_type": "code",
   "execution_count": null,
   "metadata": {},
   "outputs": [],
   "source": [
    "(widget/selection-slider :options [\"slower\" \"slow\" \"normal\" \"fast\" \"fastest\"] :value \"normal\" :description \"Speed\")"
   ]
  },
  {
   "cell_type": "code",
   "execution_count": null,
   "metadata": {},
   "outputs": [],
   "source": [
    "(widget/selection-range-slider :options (map list [\"slower\" \"slow\" \"normal\" \"fast\" \"fastest\"] (range)) :value [2 2] :description \"Speed\")"
   ]
  },
  {
   "cell_type": "markdown",
   "metadata": {},
   "source": [
    "____\n",
    "### Container Widgets"
   ]
  },
  {
   "cell_type": "code",
   "execution_count": null,
   "metadata": {},
   "outputs": [],
   "source": [
    "(let [w (widget/int-slider)\n",
    "      p (widget/int-slider :max (* 2 (:max @w)))\n",
    "      _ (widget/directional-link :source [w :value] :target [p :value])]\n",
    "  (widget/box :children [w p]))"
   ]
  },
  {
   "cell_type": "code",
   "execution_count": null,
   "metadata": {},
   "outputs": [],
   "source": [
    "(let [w (widget/int-slider :orientation \"vertical\" :value (rand-int 101))\n",
    "      p (widget/int-progress :orientation \"vertical\" :value (:value @w))]\n",
    "  (add-watch w :key0 (fn [_ _ _ new-state] (swap! p assoc :value (:value new-state))))\n",
    "  (widget/h-box :children [w p]))"
   ]
  },
  {
   "cell_type": "markdown",
   "metadata": {},
   "source": [
    "H-box looks and feels identical with a regular box widget."
   ]
  },
  {
   "cell_type": "code",
   "execution_count": null,
   "metadata": {},
   "outputs": [],
   "source": [
    "(let [w (widget/int-slider)\n",
    "      p (widget/int-progress)]\n",
    "  (add-watch w :key0 (fn [_ _ _ new-state] (swap! p assoc :value (:value new-state))))\n",
    "  (widget/v-box :children [w p]))"
   ]
  },
  {
   "cell_type": "code",
   "execution_count": null,
   "metadata": {},
   "outputs": [],
   "source": [
    "(let [w (widget/label :value \"Hello\")\n",
    "      p (widget/label :value \"World\")]\n",
    "  (widget/accordion :children [w p] :layout (widget/layout :width \"100px\")))"
   ]
  },
  {
   "cell_type": "code",
   "execution_count": null,
   "metadata": {},
   "outputs": [],
   "source": [
    "(let [w (widget/label :value \"Hello\")\n",
    "      p (widget/label :value \"World\")]\n",
    " (widget/tab :children [w p] :selected_index 0 :layout (widget/layout :width \"10em\")))"
   ]
  },
  {
   "cell_type": "markdown",
   "metadata": {},
   "source": [
    "____\n",
    "### Other Widgets"
   ]
  },
  {
   "cell_type": "code",
   "execution_count": null,
   "metadata": {},
   "outputs": [],
   "source": [
    "(def img (widget/file-upload :description \"Upload an image\" :multiple true :accept \".jpg\"))\n",
    "img"
   ]
  },
  {
   "cell_type": "code",
   "execution_count": null,
   "metadata": {},
   "outputs": [],
   "source": [
    "(widget/image :value (first (:data @img)) :format \"jpg\")"
   ]
  },
  {
   "cell_type": "markdown",
   "metadata": {},
   "source": [
    " "
   ]
  },
  {
   "cell_type": "code",
   "execution_count": null,
   "metadata": {},
   "outputs": [],
   "source": [
    "(def vid (widget/file-upload :description \"Upload a video clip\" :multiple false :accept \".mp4\"))\n",
    "vid"
   ]
  },
  {
   "cell_type": "code",
   "execution_count": null,
   "metadata": {},
   "outputs": [],
   "source": [
    "(widget/video :value (first (:data @vid)))"
   ]
  },
  {
   "cell_type": "code",
   "execution_count": null,
   "metadata": {},
   "outputs": [],
   "source": [
    "(def audio (widget/file-upload :description \"Upload an audio file\"))\n",
    "audio"
   ]
  },
  {
   "cell_type": "code",
   "execution_count": null,
   "metadata": {},
   "outputs": [],
   "source": [
    "(widget/audio :value (last (:data @audio)))"
   ]
  },
  {
   "cell_type": "code",
   "execution_count": null,
   "metadata": {},
   "outputs": [],
   "source": [
    "(widget/button :description \"Click me\" :style (widget/button-style :button_color \"sienna\"))"
   ]
  },
  {
   "cell_type": "code",
   "execution_count": null,
   "metadata": {},
   "outputs": [],
   "source": [
    "(let [min 0\n",
    "      max 100\n",
    "      value 30\n",
    "      step 1\n",
    "      w (widget/play :value value :min min :max max :step step :interval 500)\n",
    "      prg (widget/int-progress :min min :max max :value value)]\n",
    "  (add-watch w :key0 (fn [_ _ _ new-state] (swap! prg assoc :value (:value new-state))))\n",
    "  (widget/h-box :children [w prg]))"
   ]
  },
  {
   "cell_type": "code",
   "execution_count": null,
   "metadata": {},
   "outputs": [],
   "source": [
    "(def D (widget/date-picker :description \"Pick a date\" :disabled false))\n",
    "D"
   ]
  },
  {
   "cell_type": "code",
   "execution_count": null,
   "metadata": {},
   "outputs": [],
   "source": [
    "(widget/color-picker :description \"Pick a color\" :value \"blue\" :concise false)"
   ]
  },
  {
   "cell_type": "code",
   "execution_count": null,
   "metadata": {},
   "outputs": [],
   "source": [
    "(let [X (widget/controller-axis)\n",
    "      B (widget/controller-button)]\n",
    "  (widget/controller :axes [X] :buttons [B]))"
   ]
  },
  {
   "cell_type": "code",
   "execution_count": null,
   "metadata": {},
   "outputs": [],
   "source": [
    "(def out (widget/output))out"
   ]
  },
  {
   "cell_type": "code",
   "execution_count": null,
   "metadata": {},
   "outputs": [],
   "source": [
    "(widget/with-out-widget out\n",
    "  (println \"Output widget captures stdout\")\n",
    "  (binding [*out* *err*] (println \"Also stderr\"))\n",
    "  (println \"It catches exceptions\")\n",
    "  (/ 1 0)\n",
    "  (println \"And it captures rich output\")\n",
    "  (widget/int-slider))"
   ]
  },
  {
   "cell_type": "code",
   "execution_count": null,
   "metadata": {},
   "outputs": [],
   "source": []
  },
  {
   "cell_type": "code",
   "execution_count": null,
   "metadata": {},
   "outputs": [],
   "source": []
  }
 ],
 "metadata": {
  "kernelspec": {
   "display_name": "Clojure (clojupyter-0.4.1-rc1)",
   "language": "clojure",
   "name": "clojupyter-0.4.1-rc1"
  },
  "language_info": {
   "file_extension": ".clj",
   "mimetype": "text/x-clojure",
   "name": "clojure",
   "version": "1.10.1"
  },
  "widgets": {
   "application/vnd.jupyter.widget-state+json": {
    "state": {},
    "version_major": 2,
    "version_minor": 0
   }
  }
 },
 "nbformat": 4,
 "nbformat_minor": 4
}
